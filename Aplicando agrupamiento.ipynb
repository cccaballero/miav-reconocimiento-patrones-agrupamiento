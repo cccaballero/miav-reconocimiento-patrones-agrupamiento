{
 "cells": [
  {
   "cell_type": "markdown",
   "id": "criminal-ticket",
   "metadata": {},
   "source": [
    "_Carlos Cesar Caballero Díaz_\n",
    "\n",
    "https://github.com/cccaballero/miav-reconocimiento-patrones-agrupamiento"
   ]
  },
  {
   "cell_type": "markdown",
   "id": "endangered-gross",
   "metadata": {},
   "source": [
    "Se desea reducir el tamaño de imágenes digitales en formato PNG reduciendo el número de colores que se encuentran en una imagen a solo los más comunes en dicha imagen. Se desean conformar grupos de píxeles a partir de la similitud en sus canales de colores, los cuales serán convertidos a un color único para, de dicha forma, reducir el tamaño total de la imagen."
   ]
  },
  {
   "cell_type": "markdown",
   "id": "pending-theorem",
   "metadata": {},
   "source": [
    "A partir del objeto Pixel se determinan los siguientes rasgos:\n",
    "\n",
    "| Rasgo | Nombre | Dominio | Descripción |\n",
    "| --- | --- | --- | --- |\n",
    "| R1 | Rojo | {0-255} | Valor del canal rojo |\n",
    "| R2 | Verde | {0-255} | Valor del canal verde |\n",
    "| R3 | Azul | {0-255} | Valor del canal azul |\n"
   ]
  },
  {
   "cell_type": "markdown",
   "id": "collective-latex",
   "metadata": {},
   "source": [
    "Se obtienen los datos de los píxeles a partir de la imagen de referencia"
   ]
  },
  {
   "cell_type": "code",
   "execution_count": 16,
   "id": "beautiful-criterion",
   "metadata": {},
   "outputs": [],
   "source": [
    "from PIL import Image\n",
    "import random\n",
    "import pandas as pd\n",
    "\n",
    "im = Image.open('image.png')\n",
    "pix_list = list(im.getdata())"
   ]
  },
  {
   "cell_type": "markdown",
   "id": "novel-camel",
   "metadata": {},
   "source": [
    "Se selección una parte de la base de datos para conformar la matriz inicial."
   ]
  },
  {
   "cell_type": "code",
   "execution_count": 17,
   "id": "imposed-fashion",
   "metadata": {},
   "outputs": [
    {
     "data": {
      "text/html": [
       "<div>\n",
       "<style scoped>\n",
       "    .dataframe tbody tr th:only-of-type {\n",
       "        vertical-align: middle;\n",
       "    }\n",
       "\n",
       "    .dataframe tbody tr th {\n",
       "        vertical-align: top;\n",
       "    }\n",
       "\n",
       "    .dataframe thead th {\n",
       "        text-align: right;\n",
       "    }\n",
       "</style>\n",
       "<table border=\"1\" class=\"dataframe\">\n",
       "  <thead>\n",
       "    <tr style=\"text-align: right;\">\n",
       "      <th></th>\n",
       "      <th>R1</th>\n",
       "      <th>R2</th>\n",
       "      <th>R3</th>\n",
       "    </tr>\n",
       "  </thead>\n",
       "  <tbody>\n",
       "    <tr>\n",
       "      <th>0</th>\n",
       "      <td>12</td>\n",
       "      <td>17</td>\n",
       "      <td>13</td>\n",
       "    </tr>\n",
       "    <tr>\n",
       "      <th>1</th>\n",
       "      <td>34</td>\n",
       "      <td>55</td>\n",
       "      <td>22</td>\n",
       "    </tr>\n",
       "    <tr>\n",
       "      <th>2</th>\n",
       "      <td>151</td>\n",
       "      <td>140</td>\n",
       "      <td>114</td>\n",
       "    </tr>\n",
       "    <tr>\n",
       "      <th>3</th>\n",
       "      <td>41</td>\n",
       "      <td>147</td>\n",
       "      <td>206</td>\n",
       "    </tr>\n",
       "    <tr>\n",
       "      <th>4</th>\n",
       "      <td>79</td>\n",
       "      <td>142</td>\n",
       "      <td>198</td>\n",
       "    </tr>\n",
       "  </tbody>\n",
       "</table>\n",
       "</div>"
      ],
      "text/plain": [
       "    R1   R2   R3\n",
       "0   12   17   13\n",
       "1   34   55   22\n",
       "2  151  140  114\n",
       "3   41  147  206\n",
       "4   79  142  198"
      ]
     },
     "execution_count": 17,
     "metadata": {},
     "output_type": "execute_result"
    }
   ],
   "source": [
    "random.seed(7)\n",
    "pix_sample = random.sample(pix_list, 5)\n",
    "learn_matrix = pd.DataFrame(pix_sample, columns=[\"R1\", \"R2\", \"R3\"])\n",
    "learn_matrix"
   ]
  },
  {
   "cell_type": "markdown",
   "id": "artificial-tension",
   "metadata": {},
   "source": [
    "Como función de semejanza entre objetos se utilizará \"CIE 2000\" para el cálculo de  \n",
    "\"Delta E\" para determinar la diferencia entre colores (https://onlinelibrary.wiley.com/doi/abs/10.1002/col.1049). Dicho algoritmo devuelve valores entre 0 y 206.8043 siendo 0 dos colores iguales, y 206.8043 la máxima diferencia posible. El resultado de dicho algoritmo se lleva a la escala de 0...1 y se invierte para obtener a 1 como valor de igualdad de la siguiente forma:\n",
    "\n",
    "$\\sigma_i(O_0,O_t) = \\text{Valor de diferencia Delta E para ambos objetos}$\n",
    "\n",
    "$$\\beta(O_0,O_t) = \\frac{(\\frac{\\sigma_i(O_0,O_t) * 100}{206.8043})}{100}$$\n"
   ]
  },
  {
   "cell_type": "code",
   "execution_count": 18,
   "id": "exciting-milan",
   "metadata": {},
   "outputs": [],
   "source": [
    "from colormath.color_objects import sRGBColor, LabColor\n",
    "from colormath.color_conversions import convert_color\n",
    "from colormath.color_diff import delta_e_cie2000\n",
    "\n",
    "def compare_objects(o1, o2):\n",
    "    color_o1 = convert_color(sRGBColor(*o1), LabColor)\n",
    "    color_o2 = convert_color(sRGBColor(*o2), LabColor)\n",
    "    return 1 - ((delta_e_cie2000(color_o1, color_o2)*100/206.8043) / 100)"
   ]
  },
  {
   "cell_type": "markdown",
   "id": "exciting-generation",
   "metadata": {},
   "source": [
    "Se obtiene la matriz de semejanza:"
   ]
  },
  {
   "cell_type": "code",
   "execution_count": 19,
   "id": "presidential-crisis",
   "metadata": {},
   "outputs": [
    {
     "data": {
      "text/html": [
       "<div>\n",
       "<style scoped>\n",
       "    .dataframe tbody tr th:only-of-type {\n",
       "        vertical-align: middle;\n",
       "    }\n",
       "\n",
       "    .dataframe tbody tr th {\n",
       "        vertical-align: top;\n",
       "    }\n",
       "\n",
       "    .dataframe thead th {\n",
       "        text-align: right;\n",
       "    }\n",
       "</style>\n",
       "<table border=\"1\" class=\"dataframe\">\n",
       "  <thead>\n",
       "    <tr style=\"text-align: right;\">\n",
       "      <th></th>\n",
       "      <th>0</th>\n",
       "      <th>1</th>\n",
       "      <th>2</th>\n",
       "      <th>3</th>\n",
       "      <th>4</th>\n",
       "    </tr>\n",
       "  </thead>\n",
       "  <tbody>\n",
       "    <tr>\n",
       "      <th>0</th>\n",
       "      <td>1.000000</td>\n",
       "      <td>0.685449</td>\n",
       "      <td>0.481213</td>\n",
       "      <td>0.436606</td>\n",
       "      <td>0.436613</td>\n",
       "    </tr>\n",
       "    <tr>\n",
       "      <th>1</th>\n",
       "      <td>0.685449</td>\n",
       "      <td>1.000000</td>\n",
       "      <td>0.655194</td>\n",
       "      <td>0.377954</td>\n",
       "      <td>0.380378</td>\n",
       "    </tr>\n",
       "    <tr>\n",
       "      <th>2</th>\n",
       "      <td>0.481213</td>\n",
       "      <td>0.655194</td>\n",
       "      <td>1.000000</td>\n",
       "      <td>0.448235</td>\n",
       "      <td>0.415261</td>\n",
       "    </tr>\n",
       "    <tr>\n",
       "      <th>3</th>\n",
       "      <td>0.436606</td>\n",
       "      <td>0.377954</td>\n",
       "      <td>0.448235</td>\n",
       "      <td>1.000000</td>\n",
       "      <td>0.953166</td>\n",
       "    </tr>\n",
       "    <tr>\n",
       "      <th>4</th>\n",
       "      <td>0.436613</td>\n",
       "      <td>0.380378</td>\n",
       "      <td>0.415261</td>\n",
       "      <td>0.953166</td>\n",
       "      <td>1.000000</td>\n",
       "    </tr>\n",
       "  </tbody>\n",
       "</table>\n",
       "</div>"
      ],
      "text/plain": [
       "          0         1         2         3         4\n",
       "0  1.000000  0.685449  0.481213  0.436606  0.436613\n",
       "1  0.685449  1.000000  0.655194  0.377954  0.380378\n",
       "2  0.481213  0.655194  1.000000  0.448235  0.415261\n",
       "3  0.436606  0.377954  0.448235  1.000000  0.953166\n",
       "4  0.436613  0.380378  0.415261  0.953166  1.000000"
      ]
     },
     "execution_count": 19,
     "metadata": {},
     "output_type": "execute_result"
    }
   ],
   "source": [
    "import numpy\n",
    "msa = numpy.zeros(shape=(len(learn_matrix),len(learn_matrix)))\n",
    "pd.DataFrame(msa)\n",
    "for i, o1 in learn_matrix.iterrows():\n",
    "    for j in range(i,len(learn_matrix)):\n",
    "        cmp = compare_objects(o1,learn_matrix.values[j])\n",
    "        msa[i,j] = msa[j,i] = cmp\n",
    "pd.DataFrame(msa)"
   ]
  },
  {
   "cell_type": "markdown",
   "id": "brown-imaging",
   "metadata": {},
   "source": [
    "Se define un umbral de semejanza a criterio de experto de:\n",
    "\n",
    "$\\beta_0 = 0.9$"
   ]
  },
  {
   "cell_type": "markdown",
   "id": "finnish-nothing",
   "metadata": {},
   "source": [
    "Se procede a realizar el agrupamiento segun el criterio $\\beta_0$ - conexa"
   ]
  },
  {
   "cell_type": "code",
   "execution_count": 20,
   "id": "integrated-contributor",
   "metadata": {},
   "outputs": [
    {
     "data": {
      "text/plain": [
       "[[0], [1], [2], [3, 4]]"
      ]
     },
     "execution_count": 20,
     "metadata": {},
     "output_type": "execute_result"
    }
   ],
   "source": [
    "# comprueba si \"obj\" pertenece a algun grupo de \"groups\"\n",
    "def belongs_to_group(obj, groups):\n",
    "    for group in groups:\n",
    "        for element in group:\n",
    "            if obj == element:\n",
    "                return True\n",
    "    return False\n",
    "\n",
    "beta = 0.9\n",
    "groups = []\n",
    "for i, row in enumerate(msa):\n",
    "    group = []\n",
    "    if belongs_to_group(i, groups):\n",
    "        continue\n",
    "    else:\n",
    "        group.append(i)\n",
    "    for j, element in enumerate(row):\n",
    "        if i != j and element >= beta:\n",
    "            group.append(j)\n",
    "    groups.append(group)\n",
    "groups"
   ]
  },
  {
   "cell_type": "code",
   "execution_count": null,
   "id": "broken-electric",
   "metadata": {},
   "outputs": [],
   "source": []
  }
 ],
 "metadata": {
  "kernelspec": {
   "display_name": "Python 3",
   "language": "python",
   "name": "python3"
  },
  "language_info": {
   "codemirror_mode": {
    "name": "ipython",
    "version": 3
   },
   "file_extension": ".py",
   "mimetype": "text/x-python",
   "name": "python",
   "nbconvert_exporter": "python",
   "pygments_lexer": "ipython3",
   "version": "3.7.6"
  }
 },
 "nbformat": 4,
 "nbformat_minor": 5
}
